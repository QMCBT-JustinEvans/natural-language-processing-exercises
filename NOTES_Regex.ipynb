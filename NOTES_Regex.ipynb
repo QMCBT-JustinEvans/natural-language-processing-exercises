{
 "cells": [
  {
   "cell_type": "code",
   "execution_count": 1,
   "id": "0d22a152",
   "metadata": {},
   "outputs": [],
   "source": [
    "import re\n",
    "import pandas as pd"
   ]
  },
  {
   "cell_type": "code",
   "execution_count": 3,
   "id": "ba2deba7",
   "metadata": {},
   "outputs": [
    {
     "data": {
      "text/plain": [
       "'Two households, both alike in dignity, In fair Verona, where we lay our scene, From ancient grudge break to new mutiny, Where civil blood makes civil hands unclean.'"
      ]
     },
     "execution_count": 3,
     "metadata": {},
     "output_type": "execute_result"
    }
   ],
   "source": [
    "string = 'Two households, both alike in dignity, In fair Verona, where we lay our scene, From ancient grudge break to new mutiny, Where civil blood makes civil hands unclean.'\n",
    "string"
   ]
  },
  {
   "cell_type": "code",
   "execution_count": 4,
   "id": "44310911",
   "metadata": {},
   "outputs": [
    {
     "data": {
      "text/plain": [
       "<re.Match object; span=(47, 53), match='Verona'>"
      ]
     },
     "execution_count": 4,
     "metadata": {},
     "output_type": "execute_result"
    }
   ],
   "source": [
    "re.search(r\"Verona\", string)"
   ]
  },
  {
   "cell_type": "code",
   "execution_count": 6,
   "id": "03d3ccaf",
   "metadata": {},
   "outputs": [
    {
     "data": {
      "text/plain": [
       "'Verona'"
      ]
     },
     "execution_count": 6,
     "metadata": {},
     "output_type": "execute_result"
    }
   ],
   "source": [
    "string[47:53]"
   ]
  },
  {
   "cell_type": "code",
   "execution_count": 7,
   "id": "05532aa1",
   "metadata": {},
   "outputs": [
    {
     "data": {
      "text/plain": [
       "<re.Match object; span=(39, 53), match='In fair Verona'>"
      ]
     },
     "execution_count": 7,
     "metadata": {},
     "output_type": "execute_result"
    }
   ],
   "source": [
    "re.search(r\"In fair Verona\", string)"
   ]
  },
  {
   "cell_type": "code",
   "execution_count": 8,
   "id": "f00a4be6",
   "metadata": {},
   "outputs": [],
   "source": [
    "re.search(r\"Leonardo DeCaprio\", string)"
   ]
  },
  {
   "cell_type": "code",
   "execution_count": 9,
   "id": "a897530c",
   "metadata": {},
   "outputs": [
    {
     "data": {
      "text/plain": [
       "<re.Match object; span=(126, 131), match='civil'>"
      ]
     },
     "execution_count": 9,
     "metadata": {},
     "output_type": "execute_result"
    }
   ],
   "source": [
    "re.search(r\"civil\", string)"
   ]
  },
  {
   "cell_type": "code",
   "execution_count": 10,
   "id": "3ce00534",
   "metadata": {},
   "outputs": [
    {
     "data": {
      "text/plain": [
       "'civil'"
      ]
     },
     "execution_count": 10,
     "metadata": {},
     "output_type": "execute_result"
    }
   ],
   "source": [
    "string[126:131]"
   ]
  },
  {
   "cell_type": "code",
   "execution_count": 12,
   "id": "1801f259",
   "metadata": {},
   "outputs": [
    {
     "data": {
      "text/plain": [
       "['civil', 'civil']"
      ]
     },
     "execution_count": 12,
     "metadata": {},
     "output_type": "execute_result"
    }
   ],
   "source": [
    "re.findall(r'civil', string)"
   ]
  },
  {
   "cell_type": "code",
   "execution_count": 13,
   "id": "e1a95d39",
   "metadata": {},
   "outputs": [
    {
     "data": {
      "text/plain": [
       "[]"
      ]
     },
     "execution_count": 13,
     "metadata": {},
     "output_type": "execute_result"
    }
   ],
   "source": [
    "re.findall(r\"Leonardo DeCaprio\", string)"
   ]
  },
  {
   "cell_type": "code",
   "execution_count": 14,
   "id": "35a48ff9",
   "metadata": {},
   "outputs": [
    {
     "data": {
      "text/plain": [
       "<re.Match object; span=(0, 3), match='Two'>"
      ]
     },
     "execution_count": 14,
     "metadata": {},
     "output_type": "execute_result"
    }
   ],
   "source": [
    "re.search(r\"Two\", string)"
   ]
  },
  {
   "cell_type": "code",
   "execution_count": 15,
   "id": "a79a916a",
   "metadata": {},
   "outputs": [],
   "source": [
    "re.search(r\"two\", string)"
   ]
  },
  {
   "cell_type": "code",
   "execution_count": 16,
   "id": "fc432dcd",
   "metadata": {},
   "outputs": [],
   "source": [
    "re.search(r\"2\", string)"
   ]
  },
  {
   "cell_type": "code",
   "execution_count": 17,
   "id": "92d70a6e",
   "metadata": {},
   "outputs": [
    {
     "data": {
      "text/plain": [
       "<re.Match object; span=(0, 3), match='Two'>"
      ]
     },
     "execution_count": 17,
     "metadata": {},
     "output_type": "execute_result"
    }
   ],
   "source": [
    "re.search(r'two', string, re.IGNORECASE)"
   ]
  },
  {
   "cell_type": "code",
   "execution_count": 19,
   "id": "efd8abd9",
   "metadata": {},
   "outputs": [
    {
     "data": {
      "text/plain": [
       "['grey', 'grey', 'gray']"
      ]
     },
     "execution_count": 19,
     "metadata": {},
     "output_type": "execute_result"
    }
   ],
   "source": [
    "re.findall(r'gray|grey', \"I can't remember if you spell grey like grey or like gray\")"
   ]
  },
  {
   "cell_type": "code",
   "execution_count": 20,
   "id": "b3a12c3b",
   "metadata": {},
   "outputs": [
    {
     "data": {
      "text/plain": [
       "<re.Match object; span=(7, 13), match='orange'>"
      ]
     },
     "execution_count": 20,
     "metadata": {},
     "output_type": "execute_result"
    }
   ],
   "source": [
    "re.search(r'orange|apple', \"I like oranges and apples\")"
   ]
  },
  {
   "cell_type": "code",
   "execution_count": 21,
   "id": "4da6807d",
   "metadata": {},
   "outputs": [
    {
     "data": {
      "text/plain": [
       "<re.Match object; span=(1, 2), match='a'>"
      ]
     },
     "execution_count": 21,
     "metadata": {},
     "output_type": "execute_result"
    }
   ],
   "source": [
    "re.search(r'a|e|i|o|u', 'banana')"
   ]
  },
  {
   "cell_type": "code",
   "execution_count": 24,
   "id": "1989a135",
   "metadata": {},
   "outputs": [
    {
     "data": {
      "text/plain": [
       "<re.Match object; span=(1, 2), match='a'>"
      ]
     },
     "execution_count": 24,
     "metadata": {},
     "output_type": "execute_result"
    }
   ],
   "source": [
    "re.search(r'[aeiou]', 'banana')"
   ]
  },
  {
   "cell_type": "code",
   "execution_count": 25,
   "id": "238c0d80",
   "metadata": {},
   "outputs": [
    {
     "data": {
      "text/plain": [
       "['a', 'a', 'a']"
      ]
     },
     "execution_count": 25,
     "metadata": {},
     "output_type": "execute_result"
    }
   ],
   "source": [
    "re.findall(r'[aeiou]', 'banana')"
   ]
  },
  {
   "cell_type": "code",
   "execution_count": 26,
   "id": "29a6d07c",
   "metadata": {},
   "outputs": [
    {
     "data": {
      "text/plain": [
       "<re.Match object; span=(0, 10), match='bananarama'>"
      ]
     },
     "execution_count": 26,
     "metadata": {},
     "output_type": "execute_result"
    }
   ],
   "source": [
    "re.search(r'^b.*', 'bananarama')"
   ]
  },
  {
   "cell_type": "code",
   "execution_count": 31,
   "id": "5216ee18",
   "metadata": {
    "scrolled": true
   },
   "outputs": [],
   "source": [
    "re.search(r'^b.*', 'carrotbananaramadingdong')"
   ]
  },
  {
   "cell_type": "code",
   "execution_count": 30,
   "id": "276a5124",
   "metadata": {
    "scrolled": true
   },
   "outputs": [
    {
     "data": {
      "text/plain": [
       "<re.Match object; span=(6, 24), match='bananaramadingdong'>"
      ]
     },
     "execution_count": 30,
     "metadata": {},
     "output_type": "execute_result"
    }
   ],
   "source": [
    "re.search(r'b.*', 'carrotbananaramadingdong')"
   ]
  },
  {
   "cell_type": "code",
   "execution_count": 28,
   "id": "f99225fe",
   "metadata": {},
   "outputs": [
    {
     "data": {
      "text/plain": [
       "<re.Match object; span=(0, 1), match='c'>"
      ]
     },
     "execution_count": 28,
     "metadata": {},
     "output_type": "execute_result"
    }
   ],
   "source": [
    "re.search(r'[^b.*]', 'carrotbananaramadingdong')"
   ]
  },
  {
   "cell_type": "code",
   "execution_count": 39,
   "id": "2fa32a1e",
   "metadata": {},
   "outputs": [
    {
     "data": {
      "text/plain": [
       "<re.Match object; span=(6, 7), match='b'>"
      ]
     },
     "execution_count": 39,
     "metadata": {},
     "output_type": "execute_result"
    }
   ],
   "source": [
    "re.search(r'[b.*]', 'carrotbananaramadingdong')"
   ]
  },
  {
   "cell_type": "code",
   "execution_count": 35,
   "id": "0cf0005a",
   "metadata": {},
   "outputs": [
    {
     "data": {
      "text/plain": [
       "<re.Match object; span=(8, 9), match='n'>"
      ]
     },
     "execution_count": 35,
     "metadata": {},
     "output_type": "execute_result"
    }
   ],
   "source": [
    "re.search(r'[n.+]', 'carrotbananaramadingdong')"
   ]
  },
  {
   "cell_type": "code",
   "execution_count": 42,
   "id": "41b71011",
   "metadata": {},
   "outputs": [
    {
     "data": {
      "text/plain": [
       "<re.Match object; span=(0, 18), match='banannarama pajama'>"
      ]
     },
     "execution_count": 42,
     "metadata": {},
     "output_type": "execute_result"
    }
   ],
   "source": [
    "re.search(r'^b.*', \"bananarama pajama\")"
   ]
  },
  {
   "cell_type": "code",
   "execution_count": 43,
   "id": "6d75577c",
   "metadata": {},
   "outputs": [
    {
     "data": {
      "text/plain": [
       "<re.Match object; span=(0, 11), match='banannarama'>"
      ]
     },
     "execution_count": 43,
     "metadata": {},
     "output_type": "execute_result"
    }
   ],
   "source": [
    "re.search(r'^b\\w+', \"bananarama pajama\")"
   ]
  },
  {
   "cell_type": "code",
   "execution_count": 44,
   "id": "cf6e81fa",
   "metadata": {},
   "outputs": [
    {
     "data": {
      "text/plain": [
       "<re.Match object; span=(0, 2), match='be'>"
      ]
     },
     "execution_count": 44,
     "metadata": {},
     "output_type": "execute_result"
    }
   ],
   "source": [
    "re.search(r'^b\\w+', \"be cool\")"
   ]
  },
  {
   "cell_type": "code",
   "execution_count": 45,
   "id": "6f48b810",
   "metadata": {},
   "outputs": [],
   "source": [
    "re.search(r'^b\\w+', \"b cool\")"
   ]
  },
  {
   "cell_type": "code",
   "execution_count": 48,
   "id": "aca1bea7",
   "metadata": {},
   "outputs": [
    {
     "data": {
      "text/plain": [
       "<re.Match object; span=(0, 17), match='bananarama_pajama'>"
      ]
     },
     "execution_count": 48,
     "metadata": {},
     "output_type": "execute_result"
    }
   ],
   "source": [
    "re.search(r'^b\\w*\\b', \"bananarama_pajama\")"
   ]
  },
  {
   "cell_type": "code",
   "execution_count": 50,
   "id": "d78be196",
   "metadata": {},
   "outputs": [
    {
     "data": {
      "text/plain": [
       "<re.Match object; span=(0, 3), match='ban'>"
      ]
     },
     "execution_count": 50,
     "metadata": {},
     "output_type": "execute_result"
    }
   ],
   "source": [
    "re.search(r'b.', \"bananarama pajama\")"
   ]
  },
  {
   "cell_type": "code",
   "execution_count": 53,
   "id": "08b8f559",
   "metadata": {},
   "outputs": [
    {
     "data": {
      "text/plain": [
       "<re.Match object; span=(0, 27), match='applelemonbananarama pajama'>"
      ]
     },
     "execution_count": 53,
     "metadata": {},
     "output_type": "execute_result"
    }
   ],
   "source": [
    "re.search(r'^a.*', \"applelemonbananarama pajama\")"
   ]
  },
  {
   "cell_type": "code",
   "execution_count": 54,
   "id": "a748d095",
   "metadata": {},
   "outputs": [
    {
     "data": {
      "text/plain": [
       "['555', '555', '5555']"
      ]
     },
     "execution_count": 54,
     "metadata": {},
     "output_type": "execute_result"
    }
   ],
   "source": [
    "'555-555-5555'.split('-')"
   ]
  },
  {
   "cell_type": "code",
   "execution_count": 55,
   "id": "d6a3e816",
   "metadata": {},
   "outputs": [
    {
     "data": {
      "text/plain": [
       "['555', '555', '5555']"
      ]
     },
     "execution_count": 55,
     "metadata": {},
     "output_type": "execute_result"
    }
   ],
   "source": [
    "re.split(r'-', '555-555-5555')"
   ]
  },
  {
   "cell_type": "code",
   "execution_count": 56,
   "id": "36d7f1d9",
   "metadata": {},
   "outputs": [
    {
     "data": {
      "text/plain": [
       "['555', '555', '5555']"
      ]
     },
     "execution_count": 56,
     "metadata": {},
     "output_type": "execute_result"
    }
   ],
   "source": [
    "re.split(r'-| ', '555 555-5555')"
   ]
  },
  {
   "cell_type": "code",
   "execution_count": 58,
   "id": "df7072d2",
   "metadata": {},
   "outputs": [
    {
     "data": {
      "text/plain": [
       "<re.Match object; span=(1, 2), match='a'>"
      ]
     },
     "execution_count": 58,
     "metadata": {},
     "output_type": "execute_result"
    }
   ],
   "source": [
    "re.search(r'[aeiou]', 'banana')"
   ]
  },
  {
   "cell_type": "code",
   "execution_count": 60,
   "id": "3b73a845",
   "metadata": {},
   "outputs": [
    {
     "data": {
      "text/plain": [
       "['grey', 'grey', 'gray']"
      ]
     },
     "execution_count": 60,
     "metadata": {},
     "output_type": "execute_result"
    }
   ],
   "source": [
    "re.findall(r'gr[ae]y', \"I can't remember if you spell grey like grey or like gray\")"
   ]
  },
  {
   "cell_type": "code",
   "execution_count": 66,
   "id": "e216d280",
   "metadata": {},
   "outputs": [
    {
     "data": {
      "text/plain": [
       "<re.Match object; span=(1, 2), match='a'>"
      ]
     },
     "execution_count": 66,
     "metadata": {},
     "output_type": "execute_result"
    }
   ],
   "source": [
    "re.search(r'[aeiou]{1}', 'baaenainaei')"
   ]
  },
  {
   "cell_type": "code",
   "execution_count": 69,
   "id": "0be89ac7",
   "metadata": {},
   "outputs": [],
   "source": [
    "sentence = 'You can fin us on the web at https://codeup.com. Our ip address is 123.123.123 (maybe).'"
   ]
  },
  {
   "cell_type": "code",
   "execution_count": 70,
   "id": "eabd4340",
   "metadata": {},
   "outputs": [
    {
     "name": "stdout",
     "output_type": "stream",
     "text": [
      "\n",
      "protocol: https\n",
      "  domain: codeup\n",
      "     tld: com\n",
      "\n"
     ]
    }
   ],
   "source": [
    "url_re = r'(https?)://(\\w+)\\.(\\w+)'\n",
    "\n",
    "protocol, domain, tld = re.search(url_re, sentence).groups()\n",
    "\n",
    "print(f\"\"\"\n",
    "protocol: {protocol}\n",
    "  domain: {domain}\n",
    "     tld: {tld}\n",
    "\"\"\")"
   ]
  },
  {
   "cell_type": "code",
   "execution_count": null,
   "id": "76574256",
   "metadata": {},
   "outputs": [],
   "source": [
    "!"
   ]
  }
 ],
 "metadata": {
  "kernelspec": {
   "display_name": "Python 3 (ipykernel)",
   "language": "python",
   "name": "python3"
  },
  "language_info": {
   "codemirror_mode": {
    "name": "ipython",
    "version": 3
   },
   "file_extension": ".py",
   "mimetype": "text/x-python",
   "name": "python",
   "nbconvert_exporter": "python",
   "pygments_lexer": "ipython3",
   "version": "3.9.12"
  }
 },
 "nbformat": 4,
 "nbformat_minor": 5
}
