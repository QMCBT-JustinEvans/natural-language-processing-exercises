{
 "cells": [
  {
   "cell_type": "markdown",
   "id": "13b0d4f7",
   "metadata": {},
   "source": [
    "# Model Exercises\n",
    "Do your work for this exercise in a file named model.\n",
    "\n",
    "Take the work we did in the lessons further:\n",
    "\n",
    "* What other types of models (i.e. different classifcation algorithms) could you use?\n",
    "* How do the models compare when trained on term frequency data alone, instead of TF-IDF values?"
   ]
  }
 ],
 "metadata": {
  "kernelspec": {
   "display_name": "Python 3 (ipykernel)",
   "language": "python",
   "name": "python3"
  },
  "language_info": {
   "codemirror_mode": {
    "name": "ipython",
    "version": 3
   },
   "file_extension": ".py",
   "mimetype": "text/x-python",
   "name": "python",
   "nbconvert_exporter": "python",
   "pygments_lexer": "ipython3",
   "version": "3.9.12"
  }
 },
 "nbformat": 4,
 "nbformat_minor": 5
}
