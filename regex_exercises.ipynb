{
 "cells": [
  {
   "cell_type": "markdown",
   "id": "649f43df",
   "metadata": {},
   "source": [
    "# Regex Exercises\n",
    "Using the repo setup directions, setup a new local and remote repository named ```natural-language-processing-exercises```. The local version of your repo should live inside of ```~/codeup-data-science```. This repo should be named ```natural-language-processing-exercises```\n",
    "\n",
    "Save this work in your ```natural-language-processing-exercises``` repo. Then add, commit, and push your changes.\n",
    "\n",
    "Unless a specific file extension is specified, you may do your work either in a python script (```.py```) or a jupyter notebook (```.ipynb```).\n",
    "\n",
    "Do your work for this exercise in a file named ```regex_exercises```."
   ]
  },
  {
   "cell_type": "code",
   "execution_count": 3,
   "id": "295836e4",
   "metadata": {},
   "outputs": [],
   "source": [
    "import numpy as np\n",
    "import pandas as pd\n",
    "import re"
   ]
  },
  {
   "cell_type": "markdown",
   "id": "2f634ca5",
   "metadata": {},
   "source": [
    "## 1. Write a function named ```is_vowel```. It should accept a string as input and use a regular expression to determine if the passed string is a vowel. While not explicity mentioned in the lesson, you can treat the result of ```re.search``` as a boolean value that indicates whether or not the regular expression matches the given string."
   ]
  },
  {
   "cell_type": "code",
   "execution_count": 4,
   "id": "42d0919e",
   "metadata": {},
   "outputs": [],
   "source": [
    "def is_vowel(string):\n",
    "    # (^) starts with ([List_of_strings]) and ($) ends with same ([List_of_strings]))\n",
    "    is_vowel = r'^[aeiouAEIOU]$'\n",
    "    # return the boolean value of the string searched by re.search using the rules assigned to is_vowel\n",
    "    return bool(re.search(is_vowel, string))"
   ]
  },
  {
   "cell_type": "code",
   "execution_count": 5,
   "id": "4c450c79",
   "metadata": {},
   "outputs": [
    {
     "data": {
      "text/plain": [
       "True"
      ]
     },
     "execution_count": 5,
     "metadata": {},
     "output_type": "execute_result"
    }
   ],
   "source": [
    "is_vowel('a')"
   ]
  },
  {
   "cell_type": "code",
   "execution_count": 6,
   "id": "be56639a",
   "metadata": {},
   "outputs": [
    {
     "data": {
      "text/plain": [
       "True"
      ]
     },
     "execution_count": 6,
     "metadata": {},
     "output_type": "execute_result"
    }
   ],
   "source": [
    "is_vowel('A')"
   ]
  },
  {
   "cell_type": "code",
   "execution_count": 9,
   "id": "84c2591e",
   "metadata": {},
   "outputs": [
    {
     "data": {
      "text/plain": [
       "False"
      ]
     },
     "execution_count": 9,
     "metadata": {},
     "output_type": "execute_result"
    }
   ],
   "source": [
    "is_vowel('Aa')"
   ]
  },
  {
   "cell_type": "code",
   "execution_count": 10,
   "id": "d5c52d05",
   "metadata": {},
   "outputs": [
    {
     "data": {
      "text/plain": [
       "False"
      ]
     },
     "execution_count": 10,
     "metadata": {},
     "output_type": "execute_result"
    }
   ],
   "source": [
    "is_vowel('AA')"
   ]
  },
  {
   "cell_type": "code",
   "execution_count": 7,
   "id": "05af2e35",
   "metadata": {},
   "outputs": [
    {
     "data": {
      "text/plain": [
       "False"
      ]
     },
     "execution_count": 7,
     "metadata": {},
     "output_type": "execute_result"
    }
   ],
   "source": [
    "is_vowel('b')"
   ]
  },
  {
   "cell_type": "code",
   "execution_count": 8,
   "id": "0280c1fb",
   "metadata": {},
   "outputs": [
    {
     "data": {
      "text/plain": [
       "False"
      ]
     },
     "execution_count": 8,
     "metadata": {},
     "output_type": "execute_result"
    }
   ],
   "source": [
    "is_vowel('Dog')"
   ]
  },
  {
   "cell_type": "markdown",
   "id": "8c1a7a64",
   "metadata": {},
   "source": [
    "## 2. Write a function named ```is_valid_username``` that accepts a string as input. A valid username:\n",
    "* starts with a lowercase letter, and \n",
    "* only consists of lowercase letters, numbers, or the ```_``` character. \n",
    "* It should also be no longer than 32 characters. \n",
    "\n",
    "The function should return either ```True``` or ```False``` depending on whether the passed string is a valid username.\n",
    "\n",
    "```\n",
    ">>> is_valid_username('aaaaaaaaaaaaaaaaaaaaaaaaaaaaaaaaa')\n",
    "False\n",
    ">>> is_valid_username('codeup')\n",
    "True\n",
    ">>> is_valid_username('Codeup')\n",
    "False\n",
    ">>> is_valid_username('codeup123')\n",
    "True\n",
    ">>> is_valid_username('1codeup')\n",
    "False\n",
    "```"
   ]
  },
  {
   "cell_type": "code",
   "execution_count": 45,
   "id": "9ad428d1",
   "metadata": {},
   "outputs": [],
   "source": [
    "def is_valid_username(string):\n",
    "    # (^) Starts with ([a-z]) lowercase letter, \n",
    "    # ([a-z0-9_]) contains lowercase letters,numbers, or _ \n",
    "    # stops at 32 characters ({,31}$) \n",
    "    is_valid_username = r'^[a-z][a-z0-9_]{,31}$'\n",
    "    # return the boolean value of the string searched by re.search using the rules assigned to is_vowel\n",
    "    return bool(re.search(is_valid_username, string))"
   ]
  },
  {
   "cell_type": "code",
   "execution_count": 46,
   "id": "4232f1fb",
   "metadata": {
    "scrolled": true
   },
   "outputs": [
    {
     "data": {
      "text/plain": [
       "False"
      ]
     },
     "execution_count": 46,
     "metadata": {},
     "output_type": "execute_result"
    }
   ],
   "source": [
    "# check 32 characters starting with number\n",
    "is_valid_username('12345678901234567890123456789012')"
   ]
  },
  {
   "cell_type": "code",
   "execution_count": 47,
   "id": "39cc917d",
   "metadata": {
    "scrolled": true
   },
   "outputs": [
    {
     "data": {
      "text/plain": [
       "False"
      ]
     },
     "execution_count": 47,
     "metadata": {},
     "output_type": "execute_result"
    }
   ],
   "source": [
    "# check 33 characters starting with lowercase letter\n",
    "is_valid_username('a12345678901234567890123456789012')"
   ]
  },
  {
   "cell_type": "code",
   "execution_count": 48,
   "id": "db589794",
   "metadata": {
    "scrolled": true
   },
   "outputs": [
    {
     "data": {
      "text/plain": [
       "True"
      ]
     },
     "execution_count": 48,
     "metadata": {},
     "output_type": "execute_result"
    }
   ],
   "source": [
    "# check 32 characters starting with lowercase letter\n",
    "is_valid_username('a1234567890123456789012345678901')"
   ]
  },
  {
   "cell_type": "code",
   "execution_count": 49,
   "id": "5ca0714a",
   "metadata": {},
   "outputs": [
    {
     "data": {
      "text/plain": [
       "False"
      ]
     },
     "execution_count": 49,
     "metadata": {},
     "output_type": "execute_result"
    }
   ],
   "source": [
    "# check 33 characters starting with lowercase letter\n",
    "is_valid_username('aaaaaaaaaaaaaaaaaaaaaaaaaaaaaaaaa')"
   ]
  },
  {
   "cell_type": "code",
   "execution_count": 55,
   "id": "fa40c4ba",
   "metadata": {},
   "outputs": [
    {
     "data": {
      "text/plain": [
       "True"
      ]
     },
     "execution_count": 55,
     "metadata": {},
     "output_type": "execute_result"
    }
   ],
   "source": [
    "# check 32 characters or less starting with lowercase letter\n",
    "is_valid_username('codeup')"
   ]
  },
  {
   "cell_type": "code",
   "execution_count": 51,
   "id": "f6287e30",
   "metadata": {},
   "outputs": [
    {
     "data": {
      "text/plain": [
       "False"
      ]
     },
     "execution_count": 51,
     "metadata": {},
     "output_type": "execute_result"
    }
   ],
   "source": [
    "# check 32 characters or less starting with upercase letter\n",
    "is_valid_username('Codeup')"
   ]
  },
  {
   "cell_type": "code",
   "execution_count": 52,
   "id": "a295b6fd",
   "metadata": {
    "scrolled": true
   },
   "outputs": [
    {
     "data": {
      "text/plain": [
       "True"
      ]
     },
     "execution_count": 52,
     "metadata": {},
     "output_type": "execute_result"
    }
   ],
   "source": [
    "# check 32 characters or less starting with lowercase letter including numbers\n",
    "is_valid_username('codeup123')"
   ]
  },
  {
   "cell_type": "code",
   "execution_count": 53,
   "id": "104ace7e",
   "metadata": {},
   "outputs": [
    {
     "data": {
      "text/plain": [
       "False"
      ]
     },
     "execution_count": 53,
     "metadata": {},
     "output_type": "execute_result"
    }
   ],
   "source": [
    "# check 32 characters or less starting with number\n",
    "is_valid_username('1codeup')"
   ]
  },
  {
   "cell_type": "code",
   "execution_count": 56,
   "id": "db56e8ea",
   "metadata": {
    "scrolled": true
   },
   "outputs": [
    {
     "data": {
      "text/plain": [
       "False"
      ]
     },
     "execution_count": 56,
     "metadata": {},
     "output_type": "execute_result"
    }
   ],
   "source": [
    "# check 32 characters or less starting with lowercase letter including numbers containing UPERCASE\n",
    "is_valid_username('codeUp123')"
   ]
  },
  {
   "cell_type": "markdown",
   "id": "db239711",
   "metadata": {},
   "source": [
    "## 3. Write a regular expression to capture phone numbers. It should match all of the following:\n",
    "\n",
    "```\n",
    "(210) 867 5309\n",
    "+1 210.867.5309\n",
    "867-5309\n",
    "210-867-5309\n",
    "```"
   ]
  },
  {
   "cell_type": "code",
   "execution_count": 57,
   "id": "a1e76e4b",
   "metadata": {},
   "outputs": [],
   "source": [
    "def is_phone_number(string):\n",
    "    # absolute character \"(\" is optional followe by 3 digits and abs chr \")\" optional\n",
    "    # Open Group r\"(      \\(        ?                  \\d{3}               \\)    ?         )close Group\n",
    "    # (Group)?.? = \"(Group)?\" means the Group is optional, \".\" means it can be followed by anything \"?\" and that is optional \n",
    "    # \n",
    "    is_phone_number = r\"(\\(?\\d{3}\\)?)?.?(\\+?\\d+)?.?\\d{3}.?\\d{4}\"\n",
    "    # return the boolean value of the string searched by re.search using the rules assigned to is_vowel\n",
    "    return bool(re.search(is_phone_number, string))"
   ]
  },
  {
   "cell_type": "code",
   "execution_count": 59,
   "id": "ecfe6997",
   "metadata": {},
   "outputs": [
    {
     "data": {
      "text/plain": [
       "True"
      ]
     },
     "execution_count": 59,
     "metadata": {},
     "output_type": "execute_result"
    }
   ],
   "source": [
    "is_phone_number('(210) 867 5309')"
   ]
  },
  {
   "cell_type": "code",
   "execution_count": 60,
   "id": "bf869631",
   "metadata": {},
   "outputs": [
    {
     "data": {
      "text/plain": [
       "True"
      ]
     },
     "execution_count": 60,
     "metadata": {},
     "output_type": "execute_result"
    }
   ],
   "source": [
    "is_phone_number('+1 210.867.5309')"
   ]
  },
  {
   "cell_type": "code",
   "execution_count": 61,
   "id": "ccd21dd1",
   "metadata": {
    "scrolled": true
   },
   "outputs": [
    {
     "data": {
      "text/plain": [
       "True"
      ]
     },
     "execution_count": 61,
     "metadata": {},
     "output_type": "execute_result"
    }
   ],
   "source": [
    "is_phone_number('867-5309')"
   ]
  },
  {
   "cell_type": "code",
   "execution_count": 62,
   "id": "7f55b1c3",
   "metadata": {},
   "outputs": [
    {
     "data": {
      "text/plain": [
       "True"
      ]
     },
     "execution_count": 62,
     "metadata": {},
     "output_type": "execute_result"
    }
   ],
   "source": [
    "is_phone_number('210-867-5309')"
   ]
  },
  {
   "cell_type": "code",
   "execution_count": 63,
   "id": "7b85bb32",
   "metadata": {
    "scrolled": true
   },
   "outputs": [
    {
     "data": {
      "text/plain": [
       "True"
      ]
     },
     "execution_count": 63,
     "metadata": {},
     "output_type": "execute_result"
    }
   ],
   "source": [
    "is_phone_number('2108675309')"
   ]
  },
  {
   "cell_type": "code",
   "execution_count": 64,
   "id": "7501a0fa",
   "metadata": {
    "scrolled": true
   },
   "outputs": [
    {
     "data": {
      "text/plain": [
       "True"
      ]
     },
     "execution_count": 64,
     "metadata": {},
     "output_type": "execute_result"
    }
   ],
   "source": [
    "is_phone_number('867.5309')"
   ]
  },
  {
   "cell_type": "code",
   "execution_count": 65,
   "id": "12a68c01",
   "metadata": {
    "scrolled": true
   },
   "outputs": [
    {
     "data": {
      "text/plain": [
       "True"
      ]
     },
     "execution_count": 65,
     "metadata": {},
     "output_type": "execute_result"
    }
   ],
   "source": [
    "is_phone_number('210.867.5309')"
   ]
  },
  {
   "cell_type": "code",
   "execution_count": 66,
   "id": "109a07cb",
   "metadata": {
    "scrolled": true
   },
   "outputs": [
    {
     "data": {
      "text/plain": [
       "True"
      ]
     },
     "execution_count": 66,
     "metadata": {},
     "output_type": "execute_result"
    }
   ],
   "source": [
    "is_phone_number('cell: (+1) (210) 867-5309')"
   ]
  },
  {
   "cell_type": "code",
   "execution_count": 68,
   "id": "b376cf59",
   "metadata": {
    "scrolled": true
   },
   "outputs": [
    {
     "data": {
      "text/plain": [
       "False"
      ]
     },
     "execution_count": 68,
     "metadata": {},
     "output_type": "execute_result"
    }
   ],
   "source": [
    "is_phone_number(\"I don't have a phone\")"
   ]
  },
  {
   "cell_type": "code",
   "execution_count": 70,
   "id": "b54156dd",
   "metadata": {
    "scrolled": true
   },
   "outputs": [
    {
     "data": {
      "text/plain": [
       "True"
      ]
     },
     "execution_count": 70,
     "metadata": {},
     "output_type": "execute_result"
    }
   ],
   "source": [
    "is_phone_number(\"Don't call me @ (555)555-5555\")"
   ]
  },
  {
   "cell_type": "markdown",
   "id": "a4bc027b",
   "metadata": {},
   "source": [
    "## 4. Use regular expressions to convert the dates below to the standardized year-month-day format.\n",
    "\n",
    "```\n",
    "02/04/19\n",
    "02/05/19\n",
    "02/06/19\n",
    "02/07/19\n",
    "02/08/19\n",
    "02/09/19\n",
    "02/10/19\n",
    "```"
   ]
  },
  {
   "cell_type": "markdown",
   "id": "dcdcfbd6",
   "metadata": {},
   "source": [
    "## 5. Write a regex to extract the various parts of these logfile lines:\n",
    "\n",
    "```\n",
    "GET /api/v1/sales?page=86 [16/Apr/2019:193452+0000] HTTP/1.1 {200} 510348 \"python-requests/2.21.0\" 97.105.19.58\n",
    "POST /users_accounts/file-upload [16/Apr/2019:193452+0000] HTTP/1.1 {201} 42 \"User-Agent: Mozilla/5.0 (X11; Fedora; Fedora; Linux x86_64) AppleWebKit/537.36 (KHTML, like Gecko) Chrome/73.0.3683.86 Safari/537.36\" 97.105.19.58\n",
    "GET /api/v1/items?page=3 [16/Apr/2019:193453+0000] HTTP/1.1 {429} 3561 \"python-requests/2.21.0\" 97.105.19.58\n",
    "```"
   ]
  },
  {
   "cell_type": "markdown",
   "id": "9980dcd9",
   "metadata": {},
   "source": [
    "<div class=\"alert alert-danger\"> \n",
    "\n",
    "\n",
    "# Bonus Exercise\n",
    "You can find a list of words on your mac at ```/usr/share/dict/words```.  \n",
    "\n",
    "Use this file to answer the following questions:\n",
    "- How many words have at least 3 vowels?\n",
    "- How many words have at least 3 vowels in a row?\n",
    "- How many words have at least 4 consonants in a row?\n",
    "- How many words start and end with the same letter?\n",
    "- How many words start and end with a vowel?\n",
    "- How many words contain the same letter 3 times in a row?\n",
    "- What other interesting patterns in words can you find?"
   ]
  },
  {
   "cell_type": "code",
   "execution_count": null,
   "id": "8167401b",
   "metadata": {},
   "outputs": [],
   "source": []
  }
 ],
 "metadata": {
  "kernelspec": {
   "display_name": "Python 3 (ipykernel)",
   "language": "python",
   "name": "python3"
  },
  "language_info": {
   "codemirror_mode": {
    "name": "ipython",
    "version": 3
   },
   "file_extension": ".py",
   "mimetype": "text/x-python",
   "name": "python",
   "nbconvert_exporter": "python",
   "pygments_lexer": "ipython3",
   "version": "3.9.12"
  }
 },
 "nbformat": 4,
 "nbformat_minor": 5
}
