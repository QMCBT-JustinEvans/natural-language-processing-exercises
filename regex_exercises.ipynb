{
 "cells": [
  {
   "cell_type": "markdown",
   "id": "6dfe0448",
   "metadata": {},
   "source": [
    "# Regex Exercises\n",
    "Using the repo setup directions, setup a new local and remote repository named ```natural-language-processing-exercises```. The local version of your repo should live inside of ```~/codeup-data-science```. This repo should be named ```natural-language-processing-exercises```\n",
    "\n",
    "Save this work in your ```natural-language-processing-exercises``` repo. Then add, commit, and push your changes.\n",
    "\n",
    "Unless a specific file extension is specified, you may do your work either in a python script (```.py```) or a jupyter notebook (```.ipynb```).\n",
    "\n",
    "Do your work for this exercise in a file named ```regex_exercises```."
   ]
  },
  {
   "cell_type": "code",
   "execution_count": 3,
   "id": "cab24a16",
   "metadata": {},
   "outputs": [],
   "source": [
    "import numpy as np\n",
    "import pandas as pd\n",
    "import re"
   ]
  },
  {
   "cell_type": "markdown",
   "id": "b5f66f8c",
   "metadata": {},
   "source": [
    "## 1. Write a function named ```is_vowel```. It should accept a string as input and use a regular expression to determine if the passed string is a vowel. While not explicity mentioned in the lesson, you can treat the result of ```re.search``` as a boolean value that indicates whether or not the regular expression matches the given string."
   ]
  },
  {
   "cell_type": "code",
   "execution_count": 4,
   "id": "c26ff96d",
   "metadata": {},
   "outputs": [],
   "source": [
    "def is_vowel(string):\n",
    "    # (^) starts with ([List_of_strings]) and ($) ends with same ([List_of_strings]))\n",
    "    is_vowel = r'^[aeiouAEIOU]$'\n",
    "    # return the boolean value of the string searched by re.search using the rules assigned to is_vowel\n",
    "    return bool(re.search(is_vowel, string))"
   ]
  },
  {
   "cell_type": "code",
   "execution_count": 5,
   "id": "5b217bec",
   "metadata": {},
   "outputs": [
    {
     "data": {
      "text/plain": [
       "True"
      ]
     },
     "execution_count": 5,
     "metadata": {},
     "output_type": "execute_result"
    }
   ],
   "source": [
    "is_vowel('a')"
   ]
  },
  {
   "cell_type": "code",
   "execution_count": 6,
   "id": "5b3fb5c0",
   "metadata": {},
   "outputs": [
    {
     "data": {
      "text/plain": [
       "True"
      ]
     },
     "execution_count": 6,
     "metadata": {},
     "output_type": "execute_result"
    }
   ],
   "source": [
    "is_vowel('A')"
   ]
  },
  {
   "cell_type": "code",
   "execution_count": 9,
   "id": "d10d805c",
   "metadata": {},
   "outputs": [
    {
     "data": {
      "text/plain": [
       "False"
      ]
     },
     "execution_count": 9,
     "metadata": {},
     "output_type": "execute_result"
    }
   ],
   "source": [
    "is_vowel('Aa')"
   ]
  },
  {
   "cell_type": "code",
   "execution_count": 10,
   "id": "fe6c97c9",
   "metadata": {},
   "outputs": [
    {
     "data": {
      "text/plain": [
       "False"
      ]
     },
     "execution_count": 10,
     "metadata": {},
     "output_type": "execute_result"
    }
   ],
   "source": [
    "is_vowel('AA')"
   ]
  },
  {
   "cell_type": "code",
   "execution_count": 7,
   "id": "e950113a",
   "metadata": {},
   "outputs": [
    {
     "data": {
      "text/plain": [
       "False"
      ]
     },
     "execution_count": 7,
     "metadata": {},
     "output_type": "execute_result"
    }
   ],
   "source": [
    "is_vowel('b')"
   ]
  },
  {
   "cell_type": "code",
   "execution_count": 8,
   "id": "a65f6a92",
   "metadata": {},
   "outputs": [
    {
     "data": {
      "text/plain": [
       "False"
      ]
     },
     "execution_count": 8,
     "metadata": {},
     "output_type": "execute_result"
    }
   ],
   "source": [
    "is_vowel('Dog')"
   ]
  },
  {
   "cell_type": "markdown",
   "id": "5501fe7e",
   "metadata": {},
   "source": [
    "## 2. Write a function named ```is_valid_username``` that accepts a string as input. A valid username:\n",
    "* starts with a lowercase letter, and \n",
    "* only consists of lowercase letters, numbers, or the ```_``` character. \n",
    "* It should also be no longer than 32 characters. \n",
    "\n",
    "The function should return either ```True``` or ```False``` depending on whether the passed string is a valid username.\n",
    "\n",
    "```\n",
    ">>> is_valid_username('aaaaaaaaaaaaaaaaaaaaaaaaaaaaaaaaa')\n",
    "False\n",
    ">>> is_valid_username('codeup')\n",
    "True\n",
    ">>> is_valid_username('Codeup')\n",
    "False\n",
    ">>> is_valid_username('codeup123')\n",
    "True\n",
    ">>> is_valid_username('1codeup')\n",
    "False\n",
    "```"
   ]
  },
  {
   "cell_type": "code",
   "execution_count": 45,
   "id": "acd99866",
   "metadata": {},
   "outputs": [],
   "source": [
    "def is_valid_username(string):\n",
    "    # (^) Starts with ([a-z]) lowercase letter, \n",
    "    # ([a-z0-9_]) contains lowercase letters,numbers, or _ \n",
    "    # stops at 32 characters ({,31}$) \n",
    "    is_valid_username = r'^[a-z][a-z0-9_]{,31}$'\n",
    "    # return the boolean value of the string searched by re.search using the rules assigned to is_vowel\n",
    "    return bool(re.search(is_valid_username, string))"
   ]
  },
  {
   "cell_type": "code",
   "execution_count": 46,
   "id": "9c0f0902",
   "metadata": {
    "scrolled": true
   },
   "outputs": [
    {
     "data": {
      "text/plain": [
       "False"
      ]
     },
     "execution_count": 46,
     "metadata": {},
     "output_type": "execute_result"
    }
   ],
   "source": [
    "# check 32 characters starting with number\n",
    "is_valid_username('12345678901234567890123456789012')"
   ]
  },
  {
   "cell_type": "code",
   "execution_count": 47,
   "id": "61f0fcd2",
   "metadata": {
    "scrolled": true
   },
   "outputs": [
    {
     "data": {
      "text/plain": [
       "False"
      ]
     },
     "execution_count": 47,
     "metadata": {},
     "output_type": "execute_result"
    }
   ],
   "source": [
    "# check 33 characters starting with lowercase letter\n",
    "is_valid_username('a12345678901234567890123456789012')"
   ]
  },
  {
   "cell_type": "code",
   "execution_count": 48,
   "id": "6130b6e4",
   "metadata": {
    "scrolled": true
   },
   "outputs": [
    {
     "data": {
      "text/plain": [
       "True"
      ]
     },
     "execution_count": 48,
     "metadata": {},
     "output_type": "execute_result"
    }
   ],
   "source": [
    "# check 32 characters starting with lowercase letter\n",
    "is_valid_username('a1234567890123456789012345678901')"
   ]
  },
  {
   "cell_type": "code",
   "execution_count": 49,
   "id": "a6a3e5f0",
   "metadata": {},
   "outputs": [
    {
     "data": {
      "text/plain": [
       "False"
      ]
     },
     "execution_count": 49,
     "metadata": {},
     "output_type": "execute_result"
    }
   ],
   "source": [
    "# check 33 characters starting with lowercase letter\n",
    "is_valid_username('aaaaaaaaaaaaaaaaaaaaaaaaaaaaaaaaa')"
   ]
  },
  {
   "cell_type": "code",
   "execution_count": 55,
   "id": "96c0b698",
   "metadata": {},
   "outputs": [
    {
     "data": {
      "text/plain": [
       "True"
      ]
     },
     "execution_count": 55,
     "metadata": {},
     "output_type": "execute_result"
    }
   ],
   "source": [
    "# check 32 characters or less starting with lowercase letter\n",
    "is_valid_username('codeup')"
   ]
  },
  {
   "cell_type": "code",
   "execution_count": 51,
   "id": "086c3952",
   "metadata": {},
   "outputs": [
    {
     "data": {
      "text/plain": [
       "False"
      ]
     },
     "execution_count": 51,
     "metadata": {},
     "output_type": "execute_result"
    }
   ],
   "source": [
    "# check 32 characters or less starting with upercase letter\n",
    "is_valid_username('Codeup')"
   ]
  },
  {
   "cell_type": "code",
   "execution_count": 52,
   "id": "2e72b807",
   "metadata": {
    "scrolled": true
   },
   "outputs": [
    {
     "data": {
      "text/plain": [
       "True"
      ]
     },
     "execution_count": 52,
     "metadata": {},
     "output_type": "execute_result"
    }
   ],
   "source": [
    "# check 32 characters or less starting with lowercase letter including numbers\n",
    "is_valid_username('codeup123')"
   ]
  },
  {
   "cell_type": "code",
   "execution_count": 53,
   "id": "a1c3d744",
   "metadata": {},
   "outputs": [
    {
     "data": {
      "text/plain": [
       "False"
      ]
     },
     "execution_count": 53,
     "metadata": {},
     "output_type": "execute_result"
    }
   ],
   "source": [
    "# check 32 characters or less starting with number\n",
    "is_valid_username('1codeup')"
   ]
  },
  {
   "cell_type": "code",
   "execution_count": 56,
   "id": "ff7a43eb",
   "metadata": {
    "scrolled": true
   },
   "outputs": [
    {
     "data": {
      "text/plain": [
       "False"
      ]
     },
     "execution_count": 56,
     "metadata": {},
     "output_type": "execute_result"
    }
   ],
   "source": [
    "# check 32 characters or less starting with lowercase letter including numbers containing UPERCASE\n",
    "is_valid_username('codeUp123')"
   ]
  },
  {
   "cell_type": "markdown",
   "id": "c3eac06f",
   "metadata": {},
   "source": [
    "## 3. Write a regular expression to capture phone numbers. It should match all of the following:\n",
    "\n",
    "```\n",
    "(210) 867 5309\n",
    "+1 210.867.5309\n",
    "867-5309\n",
    "210-867-5309\n",
    "```"
   ]
  },
  {
   "cell_type": "code",
   "execution_count": 57,
   "id": "e1b6f37f",
   "metadata": {},
   "outputs": [],
   "source": [
    "def is_phone_number(string):\n",
    "    # r\"(\\(?\\d{3}\\)?)\n",
    "    # absolute character \"(\" is optional followed by 3 digits and abs chr \")\" optional\n",
    "    # Open Group r\"(      \\(        ?                  \\d{3}               \\)    ?         )close Group\n",
    "    \n",
    "    # ?.?\n",
    "    # (Group)?.? = \"(Group)?\" means the Group is optional, \".\" means it can be followed by anything \"?\" and that is optional \n",
    "    \n",
    "    # (\\+?\\d+)\n",
    "    # absolute character \"+\" is optional followed by digits followed by 1 or more of a matching pattern (/d digits)\n",
    "    # Open Group(         \\+        ?                  \\d                  +                          )close Group\n",
    "    \n",
    "    # ?.?\n",
    "    # (Group)?.? = \"(Group)?\" means the Group is optional, \".\" means it can be followed by anything \"?\" and that is optional \n",
    "\n",
    "    # \\d{3}.?\\d{4}\n",
    "    # 3 digits followed by anything which is optional followed by 4 digits\n",
    "    # \\d{3}                     .                ?                 /d{4}\n",
    "    \n",
    "    is_phone_number = r\"(\\(?\\d{3}\\)?)?.?(\\+?\\d+)?.?\\d{3}.?\\d{4}\"\n",
    "    # return the boolean value of the string searched by re.search using the rules assigned to is_vowel\n",
    "    return bool(re.search(is_phone_number, string))"
   ]
  },
  {
   "cell_type": "code",
   "execution_count": 59,
   "id": "8d9109c7",
   "metadata": {},
   "outputs": [
    {
     "data": {
      "text/plain": [
       "True"
      ]
     },
     "execution_count": 59,
     "metadata": {},
     "output_type": "execute_result"
    }
   ],
   "source": [
    "# Test Curriculum Assertion\n",
    "is_phone_number('(210) 867 5309')"
   ]
  },
  {
   "cell_type": "code",
   "execution_count": 60,
   "id": "cde4a786",
   "metadata": {},
   "outputs": [
    {
     "data": {
      "text/plain": [
       "True"
      ]
     },
     "execution_count": 60,
     "metadata": {},
     "output_type": "execute_result"
    }
   ],
   "source": [
    "# Test Curriculum Assertion\n",
    "is_phone_number('+1 210.867.5309')"
   ]
  },
  {
   "cell_type": "code",
   "execution_count": 61,
   "id": "3c6a87e0",
   "metadata": {
    "scrolled": true
   },
   "outputs": [
    {
     "data": {
      "text/plain": [
       "True"
      ]
     },
     "execution_count": 61,
     "metadata": {},
     "output_type": "execute_result"
    }
   ],
   "source": [
    "# Test Curriculum Assertion\n",
    "is_phone_number('867-5309')"
   ]
  },
  {
   "cell_type": "code",
   "execution_count": 62,
   "id": "4880a539",
   "metadata": {},
   "outputs": [
    {
     "data": {
      "text/plain": [
       "True"
      ]
     },
     "execution_count": 62,
     "metadata": {},
     "output_type": "execute_result"
    }
   ],
   "source": [
    "# Test Curriculum Assertion\n",
    "is_phone_number('210-867-5309')"
   ]
  },
  {
   "cell_type": "code",
   "execution_count": 63,
   "id": "5eced1a3",
   "metadata": {
    "scrolled": true
   },
   "outputs": [
    {
     "data": {
      "text/plain": [
       "True"
      ]
     },
     "execution_count": 63,
     "metadata": {},
     "output_type": "execute_result"
    }
   ],
   "source": [
    "# Test my own Assertion\n",
    "is_phone_number('2108675309')"
   ]
  },
  {
   "cell_type": "code",
   "execution_count": 64,
   "id": "db850071",
   "metadata": {
    "scrolled": true
   },
   "outputs": [
    {
     "data": {
      "text/plain": [
       "True"
      ]
     },
     "execution_count": 64,
     "metadata": {},
     "output_type": "execute_result"
    }
   ],
   "source": [
    "# Test my own Assertion\n",
    "is_phone_number('867.5309')"
   ]
  },
  {
   "cell_type": "code",
   "execution_count": 65,
   "id": "0de8f993",
   "metadata": {
    "scrolled": true
   },
   "outputs": [
    {
     "data": {
      "text/plain": [
       "True"
      ]
     },
     "execution_count": 65,
     "metadata": {},
     "output_type": "execute_result"
    }
   ],
   "source": [
    "# Test my own Assertion\n",
    "is_phone_number('210.867.5309')"
   ]
  },
  {
   "cell_type": "code",
   "execution_count": 66,
   "id": "dab8a0e7",
   "metadata": {
    "scrolled": true
   },
   "outputs": [
    {
     "data": {
      "text/plain": [
       "True"
      ]
     },
     "execution_count": 66,
     "metadata": {},
     "output_type": "execute_result"
    }
   ],
   "source": [
    "# Test my own Assertion\n",
    "is_phone_number('cell: (+1) (210) 867-5309')"
   ]
  },
  {
   "cell_type": "code",
   "execution_count": 68,
   "id": "98b05200",
   "metadata": {
    "scrolled": true
   },
   "outputs": [
    {
     "data": {
      "text/plain": [
       "False"
      ]
     },
     "execution_count": 68,
     "metadata": {},
     "output_type": "execute_result"
    }
   ],
   "source": [
    "# Test my own Assertion\n",
    "is_phone_number(\"I don't have a phone\")"
   ]
  },
  {
   "cell_type": "code",
   "execution_count": 70,
   "id": "f167be9d",
   "metadata": {
    "scrolled": true
   },
   "outputs": [
    {
     "data": {
      "text/plain": [
       "True"
      ]
     },
     "execution_count": 70,
     "metadata": {},
     "output_type": "execute_result"
    }
   ],
   "source": [
    "# Test my own Assertion\n",
    "is_phone_number(\"Don't call me @ (555)555-5555\")"
   ]
  },
  {
   "cell_type": "markdown",
   "id": "e09bb68b",
   "metadata": {},
   "source": [
    "## 4. Use regular expressions to convert the dates below to the standardized year-month-day format.\n",
    "\n",
    "```\n",
    "02/04/19\n",
    "02/05/19\n",
    "02/06/19\n",
    "02/07/19\n",
    "02/08/19\n",
    "02/09/19\n",
    "02/10/19\n",
    "```"
   ]
  },
  {
   "cell_type": "code",
   "execution_count": 74,
   "id": "e647d61a",
   "metadata": {},
   "outputs": [
    {
     "data": {
      "text/plain": [
       "['02/04/19',\n",
       " '02/05/19',\n",
       " '02/06/19',\n",
       " '02/07/19',\n",
       " '02/08/19',\n",
       " '02/09/19',\n",
       " '02/10/19']"
      ]
     },
     "execution_count": 74,
     "metadata": {},
     "output_type": "execute_result"
    }
   ],
   "source": [
    "# Create List\n",
    "text_string = ['02/04/19',\n",
    "               '02/05/19',\n",
    "               '02/06/19',\n",
    "               '02/07/19',\n",
    "               '02/08/19',\n",
    "               '02/09/19',\n",
    "               '02/10/19']\n",
    "\n",
    "text_string"
   ]
  },
  {
   "cell_type": "code",
   "execution_count": 75,
   "id": "b65b44d9",
   "metadata": {},
   "outputs": [
    {
     "data": {
      "text/plain": [
       "0    02/04/19\n",
       "1    02/05/19\n",
       "2    02/06/19\n",
       "3    02/07/19\n",
       "4    02/08/19\n",
       "5    02/09/19\n",
       "6    02/10/19\n",
       "dtype: object"
      ]
     },
     "execution_count": 75,
     "metadata": {},
     "output_type": "execute_result"
    }
   ],
   "source": [
    "# Turn list into Series\n",
    "text_series = pd.Series(text_string)\n",
    "text_series"
   ]
  },
  {
   "cell_type": "code",
   "execution_count": 76,
   "id": "3a3efc40",
   "metadata": {},
   "outputs": [
    {
     "data": {
      "text/plain": [
       "0    2019-02-04\n",
       "1    2019-02-05\n",
       "2    2019-02-06\n",
       "3    2019-02-07\n",
       "4    2019-02-08\n",
       "5    2019-02-09\n",
       "6    2019-02-10\n",
       "dtype: object"
      ]
     },
     "execution_count": 76,
     "metadata": {},
     "output_type": "execute_result"
    }
   ],
   "source": [
    "# Replace Groups (2digits)/(2digits)/(2digits) with 20(Group3)-(Group1)-(Group2)\n",
    "text_series.str.replace(r'(\\d{2})/(\\d{2})/(\\d{2})', r'20\\3-\\1-\\2', regex=True)"
   ]
  },
  {
   "cell_type": "markdown",
   "id": "774ffef1",
   "metadata": {},
   "source": [
    "## 5. Write a regex to extract the various parts of these logfile lines:\n",
    "\n",
    "```\n",
    "GET /api/v1/sales?page=86 [16/Apr/2019:193452+0000] HTTP/1.1 {200} 510348 \"python-requests/2.21.0\" 97.105.19.58\n",
    "POST /users_accounts/file-upload [16/Apr/2019:193452+0000] HTTP/1.1 {201} 42 \"User-Agent: Mozilla/5.0 (X11; Fedora; Fedora; Linux x86_64) AppleWebKit/537.36 (KHTML, like Gecko) Chrome/73.0.3683.86 Safari/537.36\" 97.105.19.58\n",
    "GET /api/v1/items?page=3 [16/Apr/2019:193453+0000] HTTP/1.1 {429} 3561 \"python-requests/2.21.0\" 97.105.19.58\n",
    "```"
   ]
  },
  {
   "cell_type": "code",
   "execution_count": 78,
   "id": "6f830a62",
   "metadata": {},
   "outputs": [
    {
     "data": {
      "text/plain": [
       "0    GET /api/v1/sales?page=86 [16/Apr/2019:193452+...\n",
       "1    POST /users_accounts/file-upload [16/Apr/2019:...\n",
       "2    GET /api/v1/items?page=3 [16/Apr/2019:193453+0...\n",
       "dtype: object"
      ]
     },
     "execution_count": 78,
     "metadata": {},
     "output_type": "execute_result"
    }
   ],
   "source": [
    "# Create Series\n",
    "text_Series = pd.Series([\n",
    "    'GET /api/v1/sales?page=86 [16/Apr/2019:193452+0000] HTTP/1.1 {200} 510348 \"python-requests/2.21.0\" 97.105.19.58',\n",
    "    'POST /users_accounts/file-upload [16/Apr/2019:193452+0000] HTTP/1.1 {201} 42 \"User-Agent: Mozilla/5.0 (X11; Fedora; Fedora; Linux x86_64) AppleWebKit/537.36 (KHTML, like Gecko) Chrome/73.0.3683.86 Safari/537.36\" 97.105.19.58',\n",
    "    'GET /api/v1/items?page=3 [16/Apr/2019:193453+0000] HTTP/1.1 {429} 3561 \"python-requests/2.21.0\" 97.105.19.58',\n",
    "])\n",
    "\n",
    "text_Series"
   ]
  },
  {
   "cell_type": "markdown",
   "id": "f222216d",
   "metadata": {},
   "source": [
    "```?P``` named capturing Group\n",
    "```<capturing_Group>``` named variable to hold assignment\n",
    "\n",
    "\n",
    "\n",
    "#### Starts with Group ```^```, start Group ```(```, name variable to hold assignment ```?P<method>```, assign by conditions ```GET|POST``` GET or POST, end Group ```)```\n",
    "* ```^(?P<method>GET|POST)```\n",
    "\n",
    "#### matches any whitespace ```\\s``` one or more times ```+```\n",
    "* ```\\s+```\n",
    "    \n",
    "#### start Group ```(``` name variable to hold assignment ```?P<path>``` followed by any character ```.``` consisting of 0 or more characters ```*``` that are optional ```?```  end Group ```)```\n",
    "* ```(?P<path>.*?)```\n",
    "\n",
    "#### matches any whitespace ```\\s``` one or more times ```+```\n",
    "* ```\\s+```\n",
    "\n",
    "#### literal open bracket ```\\[``` start Group ```(``` name variable to hold assignment ```?P<timestamp>``` followed by any character ```.``` consisting of 0 or more characters ```*``` that are optional ```?```  end Group ```)``` followed by lieteral close bracket ```\\]```\n",
    "* ```\\[(?P<timestamp>.*?)\\]```\n",
    "\n",
    "#### matches any whitespace ```\\s``` one or more times ```+```\n",
    "* ```\\s+```\n",
    "\n",
    "#### start Group ```(``` name variable to hold assignment ```?P<http_version>``` followed by any character ```.``` consisting of 0 or more characters ```*``` that are optional ```?```  end Group ```)```\n",
    "* ```(?P<http_version>.*?)```\n",
    "\n",
    "#### matches any whitespace ```\\s``` one or more times ```+```\n",
    "* ```\\s+```\n",
    "\n",
    "#### literal open curly bracket ```\\{``` start Group ```(``` name variable to hold assignment ```?P<status>``` followed by digits ```\\d``` one or more times ```+``` end Group ```)``` followed by lieteral close curly bracket ```\\}```\n",
    "* ```\\{(?P<status>\\d+)\\}```\n",
    "\n",
    "#### matches any whitespace ```\\s``` one or more times ```+```\n",
    "* ```\\s+```\n",
    "\n",
    "#### start Group ```(``` name variable to hold assignment ```?P<bytes>``` followed by digits ```\\d``` one or more times ```+``` end Group ```)``` \n",
    "* ```(?P<bytes>\\d+)```\n",
    "\n",
    "#### matches any whitespace ```\\s``` one or more times ```+```\n",
    "* ```\\s+```\n",
    "\n",
    "#### start Group ```(``` name variable to hold assignment ```?P<user_agent>``` followed by any character ```.``` consisting of 0 or more characters ```*``` end Group ```)``` \n",
    "* ```\"(?P<user_agent>.*)\"```\n",
    "\n",
    "#### matches any whitespace ```\\s``` one or more times ```+```\n",
    "* ```\\s+```\n",
    "\n",
    "#### start Group ```(``` name variable to hold assignment ```?P<ip>``` followed by any character ```.``` consisting of 0 or more characters ```*``` end Group ```)``` END ```$```\n",
    "* ```(?P<ip>.*)$```\n"
   ]
  },
  {
   "cell_type": "code",
   "execution_count": 79,
   "id": "82d18348",
   "metadata": {},
   "outputs": [],
   "source": [
    "logfile_re = r'''\n",
    "^(?P<method>GET|POST)\n",
    "\\s+\n",
    "(?P<path>.*?)\n",
    "\\s+\n",
    "\\[(?P<timestamp>.*?)\\]\n",
    "\\s+\n",
    "(?P<http_version>.*?)\n",
    "\\s+\n",
    "\\{(?P<status>\\d+)\\}\n",
    "\\s+\n",
    "(?P<bytes>\\d+)\n",
    "\\s+\n",
    "\"(?P<user_agent>.*)\"\n",
    "\\s+\n",
    "(?P<ip>.*)$\n",
    "'''"
   ]
  },
  {
   "cell_type": "code",
   "execution_count": 80,
   "id": "395837ee",
   "metadata": {},
   "outputs": [
    {
     "data": {
      "text/html": [
       "<div>\n",
       "<style scoped>\n",
       "    .dataframe tbody tr th:only-of-type {\n",
       "        vertical-align: middle;\n",
       "    }\n",
       "\n",
       "    .dataframe tbody tr th {\n",
       "        vertical-align: top;\n",
       "    }\n",
       "\n",
       "    .dataframe thead th {\n",
       "        text-align: right;\n",
       "    }\n",
       "</style>\n",
       "<table border=\"1\" class=\"dataframe\">\n",
       "  <thead>\n",
       "    <tr style=\"text-align: right;\">\n",
       "      <th></th>\n",
       "      <th>method</th>\n",
       "      <th>path</th>\n",
       "      <th>timestamp</th>\n",
       "      <th>http_version</th>\n",
       "      <th>status</th>\n",
       "      <th>bytes</th>\n",
       "      <th>user_agent</th>\n",
       "      <th>ip</th>\n",
       "    </tr>\n",
       "  </thead>\n",
       "  <tbody>\n",
       "    <tr>\n",
       "      <th>0</th>\n",
       "      <td>GET</td>\n",
       "      <td>/api/v1/sales?page=86</td>\n",
       "      <td>16/Apr/2019:193452+0000</td>\n",
       "      <td>HTTP/1.1</td>\n",
       "      <td>200</td>\n",
       "      <td>510348</td>\n",
       "      <td>python-requests/2.21.0</td>\n",
       "      <td>97.105.19.58</td>\n",
       "    </tr>\n",
       "    <tr>\n",
       "      <th>1</th>\n",
       "      <td>POST</td>\n",
       "      <td>/users_accounts/file-upload</td>\n",
       "      <td>16/Apr/2019:193452+0000</td>\n",
       "      <td>HTTP/1.1</td>\n",
       "      <td>201</td>\n",
       "      <td>42</td>\n",
       "      <td>User-Agent: Mozilla/5.0 (X11; Fedora; Fedora; ...</td>\n",
       "      <td>97.105.19.58</td>\n",
       "    </tr>\n",
       "    <tr>\n",
       "      <th>2</th>\n",
       "      <td>GET</td>\n",
       "      <td>/api/v1/items?page=3</td>\n",
       "      <td>16/Apr/2019:193453+0000</td>\n",
       "      <td>HTTP/1.1</td>\n",
       "      <td>429</td>\n",
       "      <td>3561</td>\n",
       "      <td>python-requests/2.21.0</td>\n",
       "      <td>97.105.19.58</td>\n",
       "    </tr>\n",
       "  </tbody>\n",
       "</table>\n",
       "</div>"
      ],
      "text/plain": [
       "  method                         path                timestamp http_version  \\\n",
       "0    GET        /api/v1/sales?page=86  16/Apr/2019:193452+0000     HTTP/1.1   \n",
       "1   POST  /users_accounts/file-upload  16/Apr/2019:193452+0000     HTTP/1.1   \n",
       "2    GET         /api/v1/items?page=3  16/Apr/2019:193453+0000     HTTP/1.1   \n",
       "\n",
       "  status   bytes                                         user_agent  \\\n",
       "0    200  510348                             python-requests/2.21.0   \n",
       "1    201      42  User-Agent: Mozilla/5.0 (X11; Fedora; Fedora; ...   \n",
       "2    429    3561                             python-requests/2.21.0   \n",
       "\n",
       "             ip  \n",
       "0  97.105.19.58  \n",
       "1  97.105.19.58  \n",
       "2  97.105.19.58  "
      ]
     },
     "execution_count": 80,
     "metadata": {},
     "output_type": "execute_result"
    }
   ],
   "source": [
    "# Extract the string from text_Series using the Regex code assigned to logfile_re and set verbose argument\n",
    "text_Series.str.extract(logfile_re, re.VERBOSE)"
   ]
  },
  {
   "cell_type": "markdown",
   "id": "5b7d67b2",
   "metadata": {},
   "source": [
    "<div class=\"alert alert-danger\"> \n",
    "\n",
    "\n",
    "# Bonus Exercise\n",
    "You can find a list of words on your mac at ```/usr/share/dict/words```.  \n",
    "\n",
    "Use this file to answer the following questions:\n",
    "- How many words have at least 3 vowels?\n",
    "- How many words have at least 3 vowels in a row?\n",
    "- How many words have at least 4 consonants in a row?\n",
    "- How many words start and end with the same letter?\n",
    "- How many words start and end with a vowel?\n",
    "- How many words contain the same letter 3 times in a row?\n",
    "- What other interesting patterns in words can you find?"
   ]
  },
  {
   "cell_type": "code",
   "execution_count": null,
   "id": "16c645fd",
   "metadata": {},
   "outputs": [],
   "source": []
  }
 ],
 "metadata": {
  "kernelspec": {
   "display_name": "Python 3 (ipykernel)",
   "language": "python",
   "name": "python3"
  },
  "language_info": {
   "codemirror_mode": {
    "name": "ipython",
    "version": 3
   },
   "file_extension": ".py",
   "mimetype": "text/x-python",
   "name": "python",
   "nbconvert_exporter": "python",
   "pygments_lexer": "ipython3",
   "version": "3.9.12"
  }
 },
 "nbformat": 4,
 "nbformat_minor": 5
}
